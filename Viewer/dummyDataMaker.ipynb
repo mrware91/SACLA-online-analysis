{
 "cells": [
  {
   "cell_type": "code",
   "execution_count": 3,
   "metadata": {
    "collapsed": false
   },
   "outputs": [],
   "source": [
    "import os\n",
    "\n",
    "os.environ['dropboxPath'] = '../Dropbox'\n",
    "import time\n",
    "\n",
    "import numpy as np\n",
    "import matplotlib.pyplot as plt\n",
    "import threading\n",
    "\n",
    "import sys\n",
    "sys.path.append('/home/software/SACLA_tool/local/python3.5/lib/python3.5/site-packages')\n",
    "sys.path.insert(0, os.environ['dropboxPath'] + '/Code/mattsTools')\n",
    "from plotStyles import *\n",
    "\n",
    "sys.path.insert(0, '../dataSaverLoader/')\n",
    "import socket\n",
    "host_name = socket.gethostname()\n",
    "if 'hpc' in host_name:\n",
    "        import dummyDatabase as Database\n",
    "else:        \n",
    "        import Database\n",
    "\n",
    "from PyQt5 import QtCore, QtGui, QtWidgets\n",
    "\n",
    "from matplotlib.backends.backend_qt5agg import FigureCanvasQTAgg as FigureCanvas\n",
    "\n",
    "import random\n"
   ]
  },
  {
   "cell_type": "code",
   "execution_count": 8,
   "metadata": {
    "collapsed": true
   },
   "outputs": [],
   "source": [
    "rois = { 'ROI1': {'Detector':'MPCCD-1-1-010',\n",
    "                 'Description':'MPCCD tile 10',\n",
    "                 'X1':1,\n",
    "                 'X2':10,\n",
    "                 'Y1':1,\n",
    "                 'Y2':10},\n",
    "       'ROI2': {'Detector':'MPCCD-1-1-010',\n",
    "                 'Description':'MPCCD tile 10',\n",
    "                 'X1':5,\n",
    "                 'X2':10,\n",
    "                 'Y1':5,\n",
    "                 'Y2':10},\n",
    "       'ROI3': {'Detector':'MPCCD-1-1-010',\n",
    "                 'Description':'MPCCD tile 10',\n",
    "                 'X1':5,\n",
    "                 'X2':10,\n",
    "                 'Y1':5,\n",
    "                 'Y2':10}} "
   ]
  },
  {
   "cell_type": "code",
   "execution_count": 9,
   "metadata": {
    "collapsed": false
   },
   "outputs": [],
   "source": [
    "from picklez import *"
   ]
  },
  {
   "cell_type": "code",
   "execution_count": 10,
   "metadata": {
    "collapsed": true
   },
   "outputs": [],
   "source": [
    "save_obj( rois , 'roiDefinitions' )"
   ]
  },
  {
   "cell_type": "code",
   "execution_count": null,
   "metadata": {
    "collapsed": true
   },
   "outputs": [],
   "source": []
  }
 ],
 "metadata": {
  "anaconda-cloud": {},
  "kernelspec": {
   "display_name": "Python [default]",
   "language": "python",
   "name": "python3"
  },
  "language_info": {
   "codemirror_mode": {
    "name": "ipython",
    "version": 3
   },
   "file_extension": ".py",
   "mimetype": "text/x-python",
   "name": "python",
   "nbconvert_exporter": "python",
   "pygments_lexer": "ipython3",
   "version": "3.5.2"
  }
 },
 "nbformat": 4,
 "nbformat_minor": 1
}
