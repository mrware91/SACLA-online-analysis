{
 "cells": [
  {
   "cell_type": "code",
   "execution_count": 1,
   "metadata": {
    "collapsed": false
   },
   "outputs": [],
   "source": [
    "import os\n",
    "import sys\n",
    "\n",
    "import numpy as np\n",
    "import io\n",
    "import time\n",
    "\n",
    "from Database import *\n",
    "\n",
    "import pandas as pd"
   ]
  },
  {
   "cell_type": "code",
   "execution_count": 2,
   "metadata": {
    "collapsed": true
   },
   "outputs": [],
   "source": [
    "pointDetectors = {'xfel_bl_3_tc_bm_2_pd/charge':{'Description':'Xray pulse energy','Nickname':'pulseEnergy','motorName':None},\n",
    "'xfel_bl_3_tc_bm_1_pd/charge':{'Description':'Xray pulse energy 1','Nickname':'pulseEnergy1','motorName':None},\n",
    "'xfel_bl_3_st_2_pd_user_10_fitting_peak/voltage':{'Description':'Xray pulse energy detector voltage','Nickname':'pulseEnergyV','motorName':None},\n",
    "'xfel_bl_3_lh1_shutter_1_open_valid/status':{'Description':'Optical shutter','Nickname':'opticalShutter','motorName':None},\n",
    "'xfel_bl_3_shutter_1_open_valid/status':{'Description':'Xray shutter','Nickname':'xrayShutter','motorName':None},\n",
    "'xfel_bl_3_st_1_motor_73/position':{'Description':'Time tool stage','Nickname':'ttStage','motorName':None},\n",
    "'xfel_bl_3_st_2_motor_1/position':{'Description':'Optical stage','Nickname':'opticalStage','motorName':None},\n",
    "'xfel_bl_3_st_2_motor_2/position':{'Description':'ND position','Nickname':'NDpos','motorName':None},\n",
    "'xfel_bl_3_st_2_motor_5/position':{'Description':'Optical rotation','Nickname':'opticalRotation','motorName':None},\n",
    "'xfel_bl_3_st_2_motor_6/position':{'Description':'Optical swivel','Nickname':'opticalSwivel','motorName':None},\n",
    "'xfel_bl_3_st_2_motor_40/position':{'Description':'Sample X','Nickname':'sampleX','motorName':None},\n",
    "'xfel_bl_3_st_2_motor_41/position':{'Description':'Sample Y','Nickname':'sampleY','motorName':None},\n",
    "'xfel_bl_3_st_2_motor_42/position':{'Description':'Sample Z','Nickname':'sampleZ','motorName':None},\n",
    "'xfel_bl_3_st_2_pd_laser_fitting_peak/voltage':{'Description':'Optical power','Nickname':'opticalPower','motorName':None}}\n",
    "\n",
    "nicknameLookupDict={ pointDetectors[det]['Nickname']:det for det in pointDetectors.keys() }\n",
    "\n",
    "rois = { 'ROI1': {'Detector':'MPCCD-1-1-010',\n",
    "                 'Description':'MPCCD tile 10',\n",
    "                 'X1':1,\n",
    "                 'X2':10,\n",
    "                 'Y1':1,\n",
    "                 'Y2':10} }  "
   ]
  },
  {
   "cell_type": "code",
   "execution_count": 3,
   "metadata": {
    "collapsed": false
   },
   "outputs": [],
   "source": [
    "myDataSaver = dataSaver()\n",
    "myDataSaver.setPointDetector( pointDetectors )\n",
    "myDataSaver.setROIs( rois )\n",
    "myDataSaver.start()"
   ]
  },
  {
   "cell_type": "code",
   "execution_count": 4,
   "metadata": {
    "collapsed": false
   },
   "outputs": [
    {
     "name": "stdout",
     "output_type": "stream",
     "text": [
      "Waiting for initialization, point detectors initialized, rois initialized, running. # tags grabbed = 0\n"
     ]
    }
   ],
   "source": [
    "myDataSaver.printStatus()\n"
   ]
  },
  {
   "cell_type": "code",
   "execution_count": null,
   "metadata": {
    "collapsed": false
   },
   "outputs": [],
   "source": []
  },
  {
   "cell_type": "code",
   "execution_count": 5,
   "metadata": {
    "collapsed": false
   },
   "outputs": [],
   "source": [
    "# myDataSaver.requestStop()"
   ]
  }
 ],
 "metadata": {
  "anaconda-cloud": {},
  "kernelspec": {
   "display_name": "Python [default]",
   "language": "python",
   "name": "python3"
  },
  "language_info": {
   "codemirror_mode": {
    "name": "ipython",
    "version": 3
   },
   "file_extension": ".py",
   "mimetype": "text/x-python",
   "name": "python",
   "nbconvert_exporter": "python",
   "pygments_lexer": "ipython3",
   "version": "3.5.2"
  }
 },
 "nbformat": 4,
 "nbformat_minor": 0
}
