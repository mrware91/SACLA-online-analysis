{
 "cells": [
  {
   "cell_type": "code",
   "execution_count": 1,
   "metadata": {
    "collapsed": false
   },
   "outputs": [],
   "source": [
    "import os\n",
    "import sys\n",
    "\n",
    "import numpy as np\n",
    "import io\n",
    "import time\n",
    "\n",
    "from Database import *\n",
    "\n",
    "import pandas as pd\n",
    "\n",
    "os.environ['dropboxPath'] = '/home/mrware/ANAPC/online/Dropbox'\n",
    "import matplotlib.pyplot as plt\n",
    "sys.path.insert(0, os.environ['dropboxPath'] + '/Code/mattsTools')\n",
    "from plotStyles import *\n",
    "from picklez import *"
   ]
  },
  {
   "cell_type": "code",
   "execution_count": 2,
   "metadata": {
    "collapsed": false
   },
   "outputs": [
    {
     "name": "stdout",
     "output_type": "stream",
     "text": [
      "{'ROI3': {'X1': 1, 'Detector': 'MPCCD-8-2-002-1', 'X2': 10, 'Description': 'An image', 'Y2': 10, 'Y1': 1}}\n"
     ]
    }
   ],
   "source": [
    "pointDetectors = {'xfel_bl_3_tc_bm_2_pd/charge':{'Description':'Xray pulse energy','Nickname':'pulseEnergy','motorName':None},\n",
    "'xfel_bl_3_tc_bm_1_pd/charge':{'Description':'Xray pulse energy 1','Nickname':'pulseEnergy1','motorName':None},\n",
    "'xfel_bl_3_st_2_pd_user_10_fitting_peak/voltage':{'Description':'Xray pulse energy detector voltage','Nickname':'pulseEnergyV','motorName':None},\n",
    "'xfel_bl_3_lh1_shutter_1_open_valid/status':{'Description':'Optical shutter','Nickname':'opticalShutter','motorName':None},\n",
    "'xfel_bl_3_shutter_1_open_valid/status':{'Description':'Xray shutter','Nickname':'xrayShutter','motorName':None},\n",
    "'xfel_bl_3_st_1_motor_73/position':{'Description':'Time tool stage','Nickname':'ttStage','motorName':None},\n",
    "'xfel_bl_3_st_2_motor_1/position':{'Description':'Optical stage','Nickname':'opticalStage','motorName':None},\n",
    "'xfel_bl_3_st_2_motor_2/position':{'Description':'ND position','Nickname':'NDpos','motorName':None},\n",
    "'xfel_bl_3_st_2_motor_5/position':{'Description':'Optical rotation','Nickname':'opticalRotation','motorName':None},\n",
    "'xfel_bl_3_st_2_motor_6/position':{'Description':'Optical swivel','Nickname':'opticalSwivel','motorName':None},\n",
    "'xfel_bl_3_st_2_motor_40/position':{'Description':'Sample X','Nickname':'sampleX','motorName':None},\n",
    "'xfel_bl_3_st_2_motor_41/position':{'Description':'Sample Y','Nickname':'sampleY','motorName':None},\n",
    "'xfel_bl_3_st_2_motor_42/position':{'Description':'Sample Z','Nickname':'sampleZ','motorName':None},\n",
    "'xfel_bl_3_st_2_pd_laser_fitting_peak/voltage':{'Description':'Optical power','Nickname':'opticalPower','motorName':None}}\n",
    "\n",
    "nicknameLookupDict={ pointDetectors[det]['Nickname']:det for det in pointDetectors.keys() }\n",
    "\n",
    "rois = { 'ROI1': {'Detector':'MPCCD-1-1-010',\n",
    "                 'Description':'MPCCD tile 10',\n",
    "                 'X1':1,\n",
    "                 'X2':10,\n",
    "                 'Y1':1,\n",
    "                 'Y2':10} }  \n",
    "\n",
    "# rois = load_obj( '/home/mrware/ANAPC/online/Viewer/roiDefinitions' )\n",
    "\n",
    "rois = {'ROI3': {'Y1': 1, 'Detector': 'MPCCD-8-2-002-1', 'X1': 1, 'Description': 'An image', 'Y2': 10, 'X2': 10}}\n",
    "\n",
    "print(rois)"
   ]
  },
  {
   "cell_type": "code",
   "execution_count": 3,
   "metadata": {
    "collapsed": false
   },
   "outputs": [
    {
     "name": "stdout",
     "output_type": "stream",
     "text": [
      "201802\n",
      "MPCCD-8-2-002-1\n",
      "MPCCD-8-2-002-1\n"
     ]
    }
   ],
   "source": [
    "myDataSaver = dataSaver( refDet='xfel_bl_3_tc_bm_1_pd/charge' )\n",
    "myDataSaver.setPointDetector( pointDetectors )\n",
    "myDataSaver.setROIs( rois )\n",
    "myDataSaver.start()"
   ]
  },
  {
   "cell_type": "code",
   "execution_count": 8,
   "metadata": {
    "collapsed": false
   },
   "outputs": [
    {
     "name": "stdout",
     "output_type": "stream",
     "text": [
      "Waiting for initialization, point detectors initialized, rois initialized, running, run completed.. # tags grabbed = 120\n"
     ]
    }
   ],
   "source": [
    "myDataSaver.printStatus()\n"
   ]
  },
  {
   "cell_type": "code",
   "execution_count": 5,
   "metadata": {
    "collapsed": false
   },
   "outputs": [
    {
     "data": {
      "text/plain": [
       "'running: 0'"
      ]
     },
     "execution_count": 5,
     "metadata": {},
     "output_type": "execute_result"
    }
   ],
   "source": [
    "myDataSaver.lastStatus()"
   ]
  },
  {
   "cell_type": "code",
   "execution_count": 7,
   "metadata": {
    "collapsed": false
   },
   "outputs": [],
   "source": [
    "myDataSaver.requestStop()"
   ]
  },
  {
   "cell_type": "code",
   "execution_count": null,
   "metadata": {
    "collapsed": true
   },
   "outputs": [],
   "source": []
  }
 ],
 "metadata": {
  "anaconda-cloud": {},
  "kernelspec": {
   "display_name": "Python [default]",
   "language": "python",
   "name": "python3"
  },
  "language_info": {
   "codemirror_mode": {
    "name": "ipython",
    "version": 3
   },
   "file_extension": ".py",
   "mimetype": "text/x-python",
   "name": "python",
   "nbconvert_exporter": "python",
   "pygments_lexer": "ipython3",
   "version": "3.5.2"
  }
 },
 "nbformat": 4,
 "nbformat_minor": 0
}
